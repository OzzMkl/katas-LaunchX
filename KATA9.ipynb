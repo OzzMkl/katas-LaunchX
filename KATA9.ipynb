{
 "cells": [
  {
   "cell_type": "markdown",
   "metadata": {},
   "source": [
    "## Ejercicio 1"
   ]
  },
  {
   "cell_type": "code",
   "execution_count": 7,
   "metadata": {},
   "outputs": [
    {
     "name": "stdout",
     "output_type": "stream",
     "text": [
      " Reporte de combustible:\n",
      "    Promedio total:     78.33333333333333%\n",
      "    Tanque principal:   80%\n",
      "    Tanque externo:     70%\n",
      "    Tanque de hidrogeno:85%\n",
      "    \n"
     ]
    }
   ],
   "source": [
    "def promedio(valores):\n",
    "    total = sum(valores)\n",
    "    num_de_valores = len(valores)\n",
    "    return total / num_de_valores\n",
    "\n",
    "#probamos la funcion\n",
    "#promedio([80,85,81])\n",
    "#print(promedio)\n",
    "\n",
    "def generar_reporte(tanque_principal, tanque_externo, tanque_de_hidrogeno):\n",
    "    return f\"\"\" Reporte de combustible:\n",
    "    Promedio total:     {promedio([tanque_principal , tanque_externo , tanque_de_hidrogeno])}%\n",
    "    Tanque principal:   {tanque_principal}%\n",
    "    Tanque externo:     {tanque_externo}%\n",
    "    Tanque de hidrogeno:{tanque_de_hidrogeno}%\n",
    "    \"\"\"\n",
    "\n",
    "print(generar_reporte(80,70,85))"
   ]
  },
  {
   "cell_type": "markdown",
   "metadata": {},
   "source": [
    "## Ejercicio 2"
   ]
  },
  {
   "cell_type": "code",
   "execution_count": 10,
   "metadata": {},
   "outputs": [
    {
     "name": "stdout",
     "output_type": "stream",
     "text": [
      "\n",
      "    Mision a {destino}\n",
      "    Tiempo de viaje total: { pre_lanzamiento + tiempo_de_vuelo } minutos\n",
      "    Combustible restante: { tanque_externo + tanque_principal } galones\n",
      "    \n"
     ]
    }
   ],
   "source": [
    "def reporte_de_la_mision(pre_lanzamiento ,tiempo_de_vuelo , destino , tanque_externo , tanque_principal):\n",
    "    return \"\"\"\n",
    "    Mision a {destino}\n",
    "    Tiempo de viaje total: { pre_lanzamiento + tiempo_de_vuelo } minutos\n",
    "    Combustible restante: { tanque_externo + tanque_principal } galones\n",
    "    \"\"\"\n",
    "\n",
    "print(reporte_de_la_mision(14,51,\"Luna\", 200000, 300000))\n",
    "\n"
   ]
  },
  {
   "cell_type": "code",
   "execution_count": 11,
   "metadata": {},
   "outputs": [
    {
     "name": "stdout",
     "output_type": "stream",
     "text": [
      "\n",
      "    Mission to Moon\n",
      "    Total travel time: 76 minutes\n",
      "    Total fuel left: 500000\n",
      "    \n"
     ]
    }
   ],
   "source": [
    "def mission_report(destination, *minutes, **fuel_reservoirs):\n",
    "    return f\"\"\"\n",
    "    Mission to {destination}\n",
    "    Total travel time: {sum(minutes)} minutes\n",
    "    Total fuel left: {sum(fuel_reservoirs.values())}\n",
    "    \"\"\"\n",
    "\n",
    "print(mission_report(\"Moon\", 10, 15, 51, main=300000, external=200000))"
   ]
  },
  {
   "cell_type": "code",
   "execution_count": 12,
   "metadata": {},
   "outputs": [
    {
     "name": "stdout",
     "output_type": "stream",
     "text": [
      "\n",
      "    Mission to Moon\n",
      "    Total travel time: 74 minutes\n",
      "    Total fuel left: 500000\n",
      "    main tank --> 300000 gallons left\n",
      "external tank --> 200000 gallons left\n",
      "\n"
     ]
    }
   ],
   "source": [
    "def mission_report(destination, *minutes, **fuel_reservoirs):\n",
    "    main_report = f\"\"\"\n",
    "    Mission to {destination}\n",
    "    Total travel time: {sum(minutes)} minutes\n",
    "    Total fuel left: {sum(fuel_reservoirs.values())}\n",
    "    \"\"\"\n",
    "    for tank_name, gallons in fuel_reservoirs.items():\n",
    "        main_report += f\"{tank_name} tank --> {gallons} gallons left\\n\"\n",
    "    return main_report\n",
    "\n",
    "print(mission_report(\"Moon\", 8, 11, 55, main=300000, external=200000))"
   ]
  }
 ],
 "metadata": {
  "interpreter": {
   "hash": "cfcfbbd76e88e95dc35e2ca9edf0c1e882d0553cc29bc4cac8c0f4eabeb0ecb9"
  },
  "kernelspec": {
   "display_name": "Python 3.10.2 64-bit",
   "language": "python",
   "name": "python3"
  },
  "language_info": {
   "codemirror_mode": {
    "name": "ipython",
    "version": 3
   },
   "file_extension": ".py",
   "mimetype": "text/x-python",
   "name": "python",
   "nbconvert_exporter": "python",
   "pygments_lexer": "ipython3",
   "version": "3.10.2"
  },
  "orig_nbformat": 4
 },
 "nbformat": 4,
 "nbformat_minor": 2
}
