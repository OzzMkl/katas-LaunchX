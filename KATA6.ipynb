{
 "cells": [
  {
   "cell_type": "code",
   "execution_count": null,
   "metadata": {},
   "outputs": [],
   "source": []
  },
  {
   "cell_type": "markdown",
   "metadata": {},
   "source": [
    "## Ejercicio 1\n"
   ]
  },
  {
   "cell_type": "code",
   "execution_count": 4,
   "metadata": {},
   "outputs": [
    {
     "name": "stdout",
     "output_type": "stream",
     "text": [
      "Tenemos un total de 8 planetas en la lista\n",
      "Pluton este es el ultimo planeta que se agrego\n"
     ]
    }
   ],
   "source": [
    "#Creacion de lista\n",
    "planetas = ['Mercurio','Venus','Tierra','Marte','Jupiter','Saturno','Urano','Neptuno']\n",
    "print('Tenemos un total de', len(planetas), 'planetas en la lista')\n",
    "\n",
    "# Agregar un elemento a la lista\n",
    "planetas.append('Pluton')\n",
    "print(planetas[-1],'este es el ultimo planeta que se agrego')"
   ]
  },
  {
   "cell_type": "markdown",
   "metadata": {},
   "source": [
    "## Ejercicio 2"
   ]
  },
  {
   "cell_type": "code",
   "execution_count": 11,
   "metadata": {},
   "outputs": [
    {
     "name": "stdout",
     "output_type": "stream",
     "text": [
      "Estos son los planeetas que estan antes del planetaNeptuno\n",
      "['Mercurio', 'Venus', 'Tierra', 'Marte', 'Jupiter', 'Saturno', 'Urano']\n",
      "Estos son los planetas que estan despues del planetaNeptuno\n",
      "[]\n"
     ]
    }
   ],
   "source": [
    "planetas = ['Mercurio','Venus','Tierra','Marte','Jupiter','Saturno','Urano','Neptuno']\n",
    "planeta_ingresado = input('Por favor ingrese un planeta')\n",
    "planeta_buscado = planetas.index(planeta_ingresado)\n",
    "\n",
    "print('Estos son los planeetas que estan antes del planeta' + planeta_ingresado)\n",
    "print(planetas[0:planeta_buscado])\n",
    "\n",
    "print('Estos son los planetas que estan despues del planeta'+ planeta_ingresado)\n",
    "print(planetas[planeta_buscado+1:])"
   ]
  },
  {
   "cell_type": "markdown",
   "metadata": {},
   "source": []
  }
 ],
 "metadata": {
  "interpreter": {
   "hash": "cfcfbbd76e88e95dc35e2ca9edf0c1e882d0553cc29bc4cac8c0f4eabeb0ecb9"
  },
  "kernelspec": {
   "display_name": "Python 3.10.2 64-bit",
   "language": "python",
   "name": "python3"
  },
  "language_info": {
   "codemirror_mode": {
    "name": "ipython",
    "version": 3
   },
   "file_extension": ".py",
   "mimetype": "text/x-python",
   "name": "python",
   "nbconvert_exporter": "python",
   "pygments_lexer": "ipython3",
   "version": "3.10.2"
  },
  "orig_nbformat": 4
 },
 "nbformat": 4,
 "nbformat_minor": 2
}
