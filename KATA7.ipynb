{
 "cells": [
  {
   "cell_type": "markdown",
   "metadata": {},
   "source": [
    "## Ejercicio 1"
   ]
  },
  {
   "cell_type": "code",
   "execution_count": 8,
   "metadata": {},
   "outputs": [],
   "source": [
    "nuevo_planeta = \"\"\n",
    "planetas_lista = []\n",
    "\n",
    "while nuevo_planeta.lower() != 'done':\n",
    "    if nuevo_planeta:\n",
    "        planetas_lista.append(nuevo_planeta)\n",
    "    nuevo_planeta = input('Enter a new planet ')\n"
   ]
  },
  {
   "cell_type": "markdown",
   "metadata": {},
   "source": [
    "## Ejercicio 2"
   ]
  },
  {
   "cell_type": "code",
   "execution_count": 9,
   "metadata": {},
   "outputs": [
    {
     "name": "stdout",
     "output_type": "stream",
     "text": [
      "tierra\n",
      "materte\n",
      "sdfs\n",
      "sdfs \n",
      "sdfsdf\n"
     ]
    }
   ],
   "source": [
    "for planeta in planetas_lista:\n",
    "    print(planeta)"
   ]
  }
 ],
 "metadata": {
  "interpreter": {
   "hash": "cfcfbbd76e88e95dc35e2ca9edf0c1e882d0553cc29bc4cac8c0f4eabeb0ecb9"
  },
  "kernelspec": {
   "display_name": "Python 3.10.2 64-bit",
   "language": "python",
   "name": "python3"
  },
  "language_info": {
   "codemirror_mode": {
    "name": "ipython",
    "version": 3
   },
   "file_extension": ".py",
   "mimetype": "text/x-python",
   "name": "python",
   "nbconvert_exporter": "python",
   "pygments_lexer": "ipython3",
   "version": "3.10.2"
  },
  "orig_nbformat": 4
 },
 "nbformat": 4,
 "nbformat_minor": 2
}
